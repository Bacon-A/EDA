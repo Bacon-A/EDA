{
 "cells": [
  {
   "cell_type": "code",
   "execution_count": 1,
   "id": "fd51e6bc",
   "metadata": {},
   "outputs": [],
   "source": [
    "#EDA\n",
    "import pandas as pd\n",
    "import numpy as np\n",
    "import matplotlib.pyplot as plt\n",
    "import seaborn as sns"
   ]
  },
  {
   "cell_type": "code",
   "execution_count": 2,
   "id": "e0c779ac",
   "metadata": {},
   "outputs": [],
   "source": [
    "df = pd.read_csv('Data.csv')"
   ]
  },
  {
   "cell_type": "code",
   "execution_count": 3,
   "id": "85b63dfd",
   "metadata": {},
   "outputs": [],
   "source": [
    "lis = []\n",
    "for i in df['Length (ft)']:\n",
    "    if i == \"-\":\n",
    "        i = float(\"nan\");\n",
    "    else:\n",
    "        i = int(i)\n",
    "    lis.append(i)\n",
    "df['Length (ft)'] = lis"
   ]
  },
  {
   "cell_type": "code",
   "execution_count": 4,
   "id": "173a30fa",
   "metadata": {},
   "outputs": [],
   "source": [
    "lis2 = []\n",
    "for i in df['Rating']:\n",
    "    if i.find(\"5.6\") >= 0:\n",
    "        i = \"(5)6\"\n",
    "    elif i.find(\"5.7\") >= 0:\n",
    "        i = \"(5)7\"\n",
    "    elif i.find(\"5.8\") >= 0:\n",
    "        i = \"(5)8\"\n",
    "    elif i.find(\"5.9\") >= 0:\n",
    "        i = \"(5)9\"\n",
    "    elif i.find(\"5.10\") >= 0:\n",
    "        i = \"5-10\"\n",
    "    elif i.find(\"5.11\") >= 0:\n",
    "        i = \"5-11\"\n",
    "    elif i.find(\"5.12\") >= 0:\n",
    "        i = \"5-12\"\n",
    "    lis2.append(i)\n",
    "df['Ratings Simplified'] = lis2"
   ]
  },
  {
   "cell_type": "code",
   "execution_count": 5,
   "id": "4fd7a0f6",
   "metadata": {
    "scrolled": true
   },
   "outputs": [
    {
     "data": {
      "text/html": [
       "<div>\n",
       "<style scoped>\n",
       "    .dataframe tbody tr th:only-of-type {\n",
       "        vertical-align: middle;\n",
       "    }\n",
       "\n",
       "    .dataframe tbody tr th {\n",
       "        vertical-align: top;\n",
       "    }\n",
       "\n",
       "    .dataframe thead th {\n",
       "        text-align: right;\n",
       "    }\n",
       "</style>\n",
       "<table border=\"1\" class=\"dataframe\">\n",
       "  <thead>\n",
       "    <tr style=\"text-align: right;\">\n",
       "      <th></th>\n",
       "      <th>Unnamed: 0</th>\n",
       "      <th>Name</th>\n",
       "      <th>Rating</th>\n",
       "      <th>Stars</th>\n",
       "      <th>First Ascent</th>\n",
       "      <th>Type</th>\n",
       "      <th>Length (ft)</th>\n",
       "      <th>Pitches</th>\n",
       "      <th>Ratings Simplified</th>\n",
       "    </tr>\n",
       "  </thead>\n",
       "  <tbody>\n",
       "    <tr>\n",
       "      <th>0</th>\n",
       "      <td>0</td>\n",
       "      <td>Tachycardia</td>\n",
       "      <td>5.7</td>\n",
       "      <td>3.6</td>\n",
       "      <td>Matthew Selman</td>\n",
       "      <td>Sport</td>\n",
       "      <td>300.0</td>\n",
       "      <td>3</td>\n",
       "      <td>(5)7</td>\n",
       "    </tr>\n",
       "    <tr>\n",
       "      <th>1</th>\n",
       "      <td>1</td>\n",
       "      <td>49</td>\n",
       "      <td>5.12a</td>\n",
       "      <td>3.7</td>\n",
       "      <td>Bill Boyle</td>\n",
       "      <td>Sport</td>\n",
       "      <td>80.0</td>\n",
       "      <td>1</td>\n",
       "      <td>5-12</td>\n",
       "    </tr>\n",
       "    <tr>\n",
       "      <th>2</th>\n",
       "      <td>2</td>\n",
       "      <td>Streak</td>\n",
       "      <td>5.11b</td>\n",
       "      <td>3.6</td>\n",
       "      <td>Boone Speed</td>\n",
       "      <td>Sport</td>\n",
       "      <td>105.0</td>\n",
       "      <td>1</td>\n",
       "      <td>5-11</td>\n",
       "    </tr>\n",
       "    <tr>\n",
       "      <th>3</th>\n",
       "      <td>3</td>\n",
       "      <td>Zoaster Toaster</td>\n",
       "      <td>5.11d</td>\n",
       "      <td>3.5</td>\n",
       "      <td>Bill Boyle</td>\n",
       "      <td>Sport</td>\n",
       "      <td>90.0</td>\n",
       "      <td>1</td>\n",
       "      <td>5-11</td>\n",
       "    </tr>\n",
       "    <tr>\n",
       "      <th>4</th>\n",
       "      <td>4</td>\n",
       "      <td>The Hitchhiker</td>\n",
       "      <td>5.11c</td>\n",
       "      <td>3.5</td>\n",
       "      <td>Darren Knezek</td>\n",
       "      <td>Sport</td>\n",
       "      <td>125.0</td>\n",
       "      <td>1</td>\n",
       "      <td>5-11</td>\n",
       "    </tr>\n",
       "  </tbody>\n",
       "</table>\n",
       "</div>"
      ],
      "text/plain": [
       "   Unnamed: 0             Name Rating  Stars    First Ascent   Type  \\\n",
       "0           0      Tachycardia    5.7    3.6  Matthew Selman  Sport   \n",
       "1           1               49  5.12a    3.7      Bill Boyle  Sport   \n",
       "2           2           Streak  5.11b    3.6     Boone Speed  Sport   \n",
       "3           3  Zoaster Toaster  5.11d    3.5      Bill Boyle  Sport   \n",
       "4           4   The Hitchhiker  5.11c    3.5   Darren Knezek  Sport   \n",
       "\n",
       "   Length (ft)  Pitches Ratings Simplified  \n",
       "0        300.0        3               (5)7  \n",
       "1         80.0        1               5-12  \n",
       "2        105.0        1               5-11  \n",
       "3         90.0        1               5-11  \n",
       "4        125.0        1               5-11  "
      ]
     },
     "execution_count": 5,
     "metadata": {},
     "output_type": "execute_result"
    }
   ],
   "source": [
    "df.head()"
   ]
  },
  {
   "cell_type": "code",
   "execution_count": 6,
   "id": "cd5ca05e",
   "metadata": {},
   "outputs": [],
   "source": [
    "#df[\"Rating_simple\"]"
   ]
  },
  {
   "cell_type": "code",
   "execution_count": 7,
   "id": "345be57e",
   "metadata": {},
   "outputs": [],
   "source": [
    "sns.set_theme()"
   ]
  },
  {
   "cell_type": "code",
   "execution_count": 8,
   "id": "425375b6",
   "metadata": {
    "scrolled": true
   },
   "outputs": [
    {
     "data": {
      "image/png": "[encoded data removed]",
      "text/plain": [
       "<Figure size 432x288 with 1 Axes>"
      ]
     },
     "metadata": {},
     "output_type": "display_data"
    }
   ],
   "source": [
    "sns.histplot(df, x = \"Stars\", kde=True, shrink = .95, color = \"goldenrod\")\n",
    "plt.show()"
   ]
  },
  {
   "cell_type": "code",
   "execution_count": 9,
   "id": "039fb038",
   "metadata": {},
   "outputs": [],
   "source": [
    "sorted_df = df.sort_values(by='Ratings Simplified', ascending = True)"
   ]
  },
  {
   "cell_type": "code",
   "execution_count": 10,
   "id": "c44f0cfe",
   "metadata": {},
   "outputs": [
    {
     "data": {
      "text/html": [
       "<div>\n",
       "<style scoped>\n",
       "    .dataframe tbody tr th:only-of-type {\n",
       "        vertical-align: middle;\n",
       "    }\n",
       "\n",
       "    .dataframe tbody tr th {\n",
       "        vertical-align: top;\n",
       "    }\n",
       "\n",
       "    .dataframe thead th {\n",
       "        text-align: right;\n",
       "    }\n",
       "</style>\n",
       "<table border=\"1\" class=\"dataframe\">\n",
       "  <thead>\n",
       "    <tr style=\"text-align: right;\">\n",
       "      <th></th>\n",
       "      <th>Unnamed: 0</th>\n",
       "      <th>Name</th>\n",
       "      <th>Rating</th>\n",
       "      <th>Stars</th>\n",
       "      <th>First Ascent</th>\n",
       "      <th>Type</th>\n",
       "      <th>Length (ft)</th>\n",
       "      <th>Pitches</th>\n",
       "      <th>Ratings Simplified</th>\n",
       "    </tr>\n",
       "  </thead>\n",
       "  <tbody>\n",
       "    <tr>\n",
       "      <th>107</th>\n",
       "      <td>107</td>\n",
       "      <td>That Be Me</td>\n",
       "      <td>5.6</td>\n",
       "      <td>2.1</td>\n",
       "      <td>Jason Stevens</td>\n",
       "      <td>Sport</td>\n",
       "      <td>50.0</td>\n",
       "      <td>1</td>\n",
       "      <td>(5)6</td>\n",
       "    </tr>\n",
       "    <tr>\n",
       "      <th>79</th>\n",
       "      <td>79</td>\n",
       "      <td>Bullets Over Baghdad</td>\n",
       "      <td>5.6</td>\n",
       "      <td>3.4</td>\n",
       "      <td>Jason Stevens</td>\n",
       "      <td>Sport</td>\n",
       "      <td>90.0</td>\n",
       "      <td>1</td>\n",
       "      <td>(5)6</td>\n",
       "    </tr>\n",
       "    <tr>\n",
       "      <th>177</th>\n",
       "      <td>177</td>\n",
       "      <td>Justice</td>\n",
       "      <td>5.6</td>\n",
       "      <td>2.5</td>\n",
       "      <td>Glenn Ritter</td>\n",
       "      <td>Sport</td>\n",
       "      <td>75.0</td>\n",
       "      <td>1</td>\n",
       "      <td>(5)6</td>\n",
       "    </tr>\n",
       "    <tr>\n",
       "      <th>142</th>\n",
       "      <td>142</td>\n",
       "      <td>Butter that Bacon</td>\n",
       "      <td>5.6</td>\n",
       "      <td>2.5</td>\n",
       "      <td>Tyler Phillips</td>\n",
       "      <td>Sport</td>\n",
       "      <td>60.0</td>\n",
       "      <td>1</td>\n",
       "      <td>(5)6</td>\n",
       "    </tr>\n",
       "    <tr>\n",
       "      <th>98</th>\n",
       "      <td>98</td>\n",
       "      <td>Moss Pocket</td>\n",
       "      <td>5.6</td>\n",
       "      <td>1.8</td>\n",
       "      <td>Jason Stevens</td>\n",
       "      <td>Sport</td>\n",
       "      <td>40.0</td>\n",
       "      <td>1</td>\n",
       "      <td>(5)6</td>\n",
       "    </tr>\n",
       "    <tr>\n",
       "      <th>...</th>\n",
       "      <td>...</td>\n",
       "      <td>...</td>\n",
       "      <td>...</td>\n",
       "      <td>...</td>\n",
       "      <td>...</td>\n",
       "      <td>...</td>\n",
       "      <td>...</td>\n",
       "      <td>...</td>\n",
       "      <td>...</td>\n",
       "    </tr>\n",
       "    <tr>\n",
       "      <th>157</th>\n",
       "      <td>157</td>\n",
       "      <td>Crescent Moon</td>\n",
       "      <td>5.12a</td>\n",
       "      <td>2.3</td>\n",
       "      <td>Chris Black</td>\n",
       "      <td>Sport</td>\n",
       "      <td>40.0</td>\n",
       "      <td>1</td>\n",
       "      <td>5-12</td>\n",
       "    </tr>\n",
       "    <tr>\n",
       "      <th>150</th>\n",
       "      <td>150</td>\n",
       "      <td>When Cobbles Fly</td>\n",
       "      <td>5.12a</td>\n",
       "      <td>2.8</td>\n",
       "      <td>Tim Roberts</td>\n",
       "      <td>Sport</td>\n",
       "      <td>100.0</td>\n",
       "      <td>1</td>\n",
       "      <td>5-12</td>\n",
       "    </tr>\n",
       "    <tr>\n",
       "      <th>140</th>\n",
       "      <td>140</td>\n",
       "      <td>Whiskey on the Southbound</td>\n",
       "      <td>5.12a</td>\n",
       "      <td>2.7</td>\n",
       "      <td>Dan Snyder</td>\n",
       "      <td>Sport</td>\n",
       "      <td>NaN</td>\n",
       "      <td>1</td>\n",
       "      <td>5-12</td>\n",
       "    </tr>\n",
       "    <tr>\n",
       "      <th>50</th>\n",
       "      <td>50</td>\n",
       "      <td>Grip Tease</td>\n",
       "      <td>5.12a</td>\n",
       "      <td>2.9</td>\n",
       "      <td>Bill Boyle</td>\n",
       "      <td>Sport</td>\n",
       "      <td>80.0</td>\n",
       "      <td>1</td>\n",
       "      <td>5-12</td>\n",
       "    </tr>\n",
       "    <tr>\n",
       "      <th>13</th>\n",
       "      <td>13</td>\n",
       "      <td>Dr. Goodkind</td>\n",
       "      <td>5.12a</td>\n",
       "      <td>3.2</td>\n",
       "      <td>Bill Boyle</td>\n",
       "      <td>Sport</td>\n",
       "      <td>60.0</td>\n",
       "      <td>1</td>\n",
       "      <td>5-12</td>\n",
       "    </tr>\n",
       "  </tbody>\n",
       "</table>\n",
       "<p>200 rows × 9 columns</p>\n",
       "</div>"
      ],
      "text/plain": [
       "     Unnamed: 0                       Name Rating  Stars    First Ascent  \\\n",
       "107         107                 That Be Me    5.6    2.1   Jason Stevens   \n",
       "79           79       Bullets Over Baghdad    5.6    3.4   Jason Stevens   \n",
       "177         177                    Justice    5.6    2.5    Glenn Ritter   \n",
       "142         142          Butter that Bacon    5.6    2.5  Tyler Phillips   \n",
       "98           98                Moss Pocket    5.6    1.8   Jason Stevens   \n",
       "..          ...                        ...    ...    ...             ...   \n",
       "157         157              Crescent Moon  5.12a    2.3     Chris Black   \n",
       "150         150           When Cobbles Fly  5.12a    2.8     Tim Roberts   \n",
       "140         140  Whiskey on the Southbound  5.12a    2.7      Dan Snyder   \n",
       "50           50                 Grip Tease  5.12a    2.9      Bill Boyle   \n",
       "13           13               Dr. Goodkind  5.12a    3.2      Bill Boyle   \n",
       "\n",
       "      Type  Length (ft)  Pitches Ratings Simplified  \n",
       "107  Sport         50.0        1               (5)6  \n",
       "79   Sport         90.0        1               (5)6  \n",
       "177  Sport         75.0        1               (5)6  \n",
       "142  Sport         60.0        1               (5)6  \n",
       "98   Sport         40.0        1               (5)6  \n",
       "..     ...          ...      ...                ...  \n",
       "157  Sport         40.0        1               5-12  \n",
       "150  Sport        100.0        1               5-12  \n",
       "140  Sport          NaN        1               5-12  \n",
       "50   Sport         80.0        1               5-12  \n",
       "13   Sport         60.0        1               5-12  \n",
       "\n",
       "[200 rows x 9 columns]"
      ]
     },
     "execution_count": 10,
     "metadata": {},
     "output_type": "execute_result"
    }
   ],
   "source": [
    "sorted_df"
   ]
  },
  {
   "cell_type": "code",
   "execution_count": 11,
   "id": "902391e1",
   "metadata": {},
   "outputs": [
    {
     "data": {
      "image/png": "[encoded data removed]",
      "text/plain": [
       "<Figure size 432x288 with 1 Axes>"
      ]
     },
     "metadata": {},
     "output_type": "display_data"
    }
   ],
   "source": [
    "sns.set(rc={\"figure.figsize\":(6, 4)})\n",
    "\n",
    "sns.histplot(sorted_df, x = \"Ratings Simplified\", shrink = .95, color = \"red\")\n",
    "plt.show() "
   ]
  },
  {
   "cell_type": "code",
   "execution_count": null,
   "id": "f3fce3c3",
   "metadata": {},
   "outputs": [],
   "source": []
  },
  {
   "cell_type": "code",
   "execution_count": 12,
   "id": "c4cf3116",
   "metadata": {},
   "outputs": [
    {
     "data": {
      "image/png": "[encoded data removed]",
      "text/plain": [
       "<Figure size 432x288 with 1 Axes>"
      ]
     },
     "metadata": {},
     "output_type": "display_data"
    }
   ],
   "source": [
    "sns.histplot(df, x = \"Pitches\", shrink = .95, color = \"Blue\")\n",
    "plt.show()"
   ]
  },
  {
   "cell_type": "code",
   "execution_count": 13,
   "id": "9ecbdcf8",
   "metadata": {},
   "outputs": [
    {
     "data": {
      "image/png": "[encoded data removed]",
      "text/plain": [
       "<Figure size 1080x288 with 1 Axes>"
      ]
     },
     "metadata": {},
     "output_type": "display_data"
    }
   ],
   "source": [
    "sns.set(rc={\"figure.figsize\":(15, 4)})\n",
    "sns.histplot(df, x = \"Length (ft)\", kde=True, shrink = .95, color = \"black\")\n",
    "plt.show()"
   ]
  },
  {
   "cell_type": "code",
   "execution_count": 14,
   "id": "bc9f43c4",
   "metadata": {},
   "outputs": [],
   "source": [
    "sns.set_palette(\"bright\")"
   ]
  }
 ],
 "metadata": {
  "kernelspec": {
   "display_name": "Python 3 (ipykernel)",
   "language": "python",
   "name": "python3"
  },
  "language_info": {
   "codemirror_mode": {
    "name": "ipython",
    "version": 3
   },
   "file_extension": ".py",
   "mimetype": "text/x-python",
   "name": "python",
   "nbconvert_exporter": "python",
   "pygments_lexer": "ipython3",
   "version": "3.10.6"
  }
 },
 "nbformat": 4,
 "nbformat_minor": 5
}
